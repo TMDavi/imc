{
 "cells": [
  {
   "cell_type": "code",
   "execution_count": 1,
   "id": "b2aba5c6-929d-4f2e-b58f-9dfe6406476b",
   "metadata": {},
   "outputs": [
    {
     "name": "stdin",
     "output_type": "stream",
     "text": [
      "Enter your weight in kilograms:  90\n",
      "Enter your height in meters:  1.75\n"
     ]
    },
    {
     "name": "stdout",
     "output_type": "stream",
     "text": [
      "Your IMC is: 29.39\n",
      "You are overweight.\n"
     ]
    }
   ],
   "source": [
    "weight = float(input(\"Enter your weight in kilograms: \"))\n",
    "\n",
    "height = float(input(\"Enter your height in meters: \"))\n",
    "\n",
    "imc = weight / (height ** 2)\n",
    "\n",
    "print(\"Your IMC is: {:.2f}\".format(imc))\n",
    "\n",
    "if imc < 18.5:\n",
    "    print(\"You are underweight.\")\n",
    "elif imc < 25:\n",
    "    print(\"You are normal weight.\")\n",
    "elif imc < 30:\n",
    "    print(\"You are overweight.\")\n",
    "else:\n",
    "    print(\"You are obese.\")"
   ]
  },
  {
   "cell_type": "code",
   "execution_count": null,
   "id": "abf1d79d-fb3e-4c64-ad21-855c2fd67911",
   "metadata": {},
   "outputs": [],
   "source": []
  }
 ],
 "metadata": {
  "kernelspec": {
   "display_name": "Python 3 (ipykernel)",
   "language": "python",
   "name": "python3"
  },
  "language_info": {
   "codemirror_mode": {
    "name": "ipython",
    "version": 3
   },
   "file_extension": ".py",
   "mimetype": "text/x-python",
   "name": "python",
   "nbconvert_exporter": "python",
   "pygments_lexer": "ipython3",
   "version": "3.12.2"
  }
 },
 "nbformat": 4,
 "nbformat_minor": 5
}
